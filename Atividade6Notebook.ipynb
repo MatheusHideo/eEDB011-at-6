{
	"cells": [
		{
			"cell_type": "markdown",
			"metadata": {
				"editable": true,
				"trusted": true
			},
			"source": [
				"# AWS Glue Studio Notebook\n",
				"##### You are now running a AWS Glue Studio notebook; To start using your notebook you need to start an AWS Glue Interactive Session.\n"
			]
		},
		{
			"cell_type": "markdown",
			"metadata": {
				"editable": true,
				"trusted": true
			},
			"source": [
				"#### Optional: Run this cell to see available notebook commands (\"magics\").\n"
			]
		},
		{
			"cell_type": "code",
			"execution_count": null,
			"metadata": {
				"editable": true,
				"trusted": true,
				"vscode": {
					"languageId": "python_glue_session"
				}
			},
			"outputs": [],
			"source": [
				"%help"
			]
		},
		{
			"cell_type": "markdown",
			"metadata": {
				"editable": true,
				"trusted": true
			},
			"source": [
				"####  Run this cell to set up and start your interactive session.\n"
			]
		},
		{
			"cell_type": "code",
			"execution_count": 1,
			"metadata": {
				"editable": true,
				"trusted": true,
				"vscode": {
					"languageId": "python_glue_session"
				}
			},
			"outputs": [
				{
					"name": "stdout",
					"output_type": "stream",
					"text": [
						"Welcome to the Glue Interactive Sessions Kernel\n",
						"For more information on available magic commands, please type %help in any new cell.\n",
						"\n",
						"Please view our Getting Started page to access the most up-to-date information on the Interactive Sessions kernel: https://docs.aws.amazon.com/glue/latest/dg/interactive-sessions.html\n",
						"Installed kernel version: 1.0.5 \n",
						"Current idle_timeout is None minutes.\n",
						"idle_timeout has been set to 2880 minutes.\n",
						"Setting Glue version to: 4.0\n",
						"Previous worker type: None\n",
						"Setting new worker type to: G.1X\n",
						"Previous number of workers: None\n",
						"Setting new number of workers to: 5\n",
						"Trying to create a Glue session for the kernel.\n",
						"Session Type: glueetl\n",
						"Worker Type: G.1X\n",
						"Number of Workers: 5\n",
						"Idle Timeout: 2880\n",
						"Session ID: 8543e01a-ddc5-4d1d-9fed-16dbc1b5b57b\n",
						"Applying the following default arguments:\n",
						"--glue_kernel_version 1.0.5\n",
						"--enable-glue-datacatalog true\n",
						"Waiting for session 8543e01a-ddc5-4d1d-9fed-16dbc1b5b57b to get into ready status...\n",
						"Session 8543e01a-ddc5-4d1d-9fed-16dbc1b5b57b has been created.\n",
						"\n"
					]
				}
			],
			"source": [
				"%idle_timeout 2880\n",
				"%glue_version 4.0\n",
				"%worker_type G.1X\n",
				"%number_of_workers 5\n",
				"\n",
				"import sys\n",
				"from awsglue.transforms import *\n",
				"from awsglue.utils import getResolvedOptions\n",
				"from pyspark.context import SparkContext\n",
				"from awsglue.context import GlueContext\n",
				"from awsglue.job import Job\n",
				"  \n",
				"sc = SparkContext.getOrCreate()\n",
				"glueContext = GlueContext(sc)\n",
				"spark = glueContext.spark_session\n",
				"job = Job(glueContext)"
			]
		},
		{
			"cell_type": "code",
			"execution_count": 2,
			"metadata": {
				"tags": [],
				"trusted": true,
				"vscode": {
					"languageId": "python_glue_session"
				}
			},
			"outputs": [
				{
					"name": "stdout",
					"output_type": "stream",
					"text": [
						"\n"
					]
				}
			],
			"source": [
				"from pyspark.sql.functions import col,regexp_replace,lit\n"
			]
		},
		{
			"cell_type": "code",
			"execution_count": 26,
			"metadata": {
				"tags": [],
				"trusted": true,
				"vscode": {
					"languageId": "python_glue_session"
				}
			},
			"outputs": [
				{
					"name": "stdout",
					"output_type": "stream",
					"text": [
						"\n"
					]
				}
			],
			"source": [
				"df_bancos = spark.read.csv(\"s3://atividade6/data/raw/Bancos\", header=True, sep=\"\\t\", encoding=\"iso-8859-1\")\n",
				"df_bancos.write.parquet(\"s3://atividade6/data/raw/bancos_parquet\", mode=\"overwrite\")\n"
			]
		},
		{
			"cell_type": "code",
			"execution_count": 28,
			"metadata": {
				"tags": [],
				"trusted": true,
				"vscode": {
					"languageId": "python_glue_session"
				}
			},
			"outputs": [
				{
					"name": "stdout",
					"output_type": "stream",
					"text": [
						"root\n",
						" |-- employer_name: string (nullable = true)\n",
						" |-- reviews_count: string (nullable = true)\n",
						" |-- culture_count: string (nullable = true)\n",
						" |-- salaries_count: string (nullable = true)\n",
						" |-- benefits_count: string (nullable = true)\n",
						" |-- employer-website: string (nullable = true)\n",
						" |-- employer-headquarters: string (nullable = true)\n",
						" |-- employer-founded: string (nullable = true)\n",
						" |-- employer-industry: string (nullable = true)\n",
						" |-- employer-revenue: string (nullable = true)\n",
						" |-- url: string (nullable = true)\n",
						" |-- Geral: string (nullable = true)\n",
						" |-- Cultura e valores: string (nullable = true)\n",
						" |-- Diversidade e inclusão: string (nullable = true)\n",
						" |-- Qualidade de vida: string (nullable = true)\n",
						" |-- Alta liderança: string (nullable = true)\n",
						" |-- Remuneração e benefícios: string (nullable = true)\n",
						" |-- Oportunidades de carreira: string (nullable = true)\n",
						" |-- Recomendam para outras pessoas(%): string (nullable = true)\n",
						" |-- Perspectiva positiva da empresa(%): string (nullable = true)\n",
						" |-- CNPJ: string (nullable = true)\n",
						" |-- Nome: string (nullable = true)\n",
						" |-- match_percent: string (nullable = true)\n",
						" |-- Segmento: string (nullable = false)\n"
					]
				}
			],
			"source": [
				"df_empregados_1 = spark.read.csv(\"s3://atividade6/data/raw/Empregados/glassdoor_consolidado_join_match_less_v2.csv\", header=True, sep=\"|\")\n",
				"df_empregados_2 = spark.read.csv(\"s3://atividade6/data/raw/Empregados/glassdoor_consolidado_join_match_v2.csv\", header=True, sep=\"|\")\n",
				"\n",
				"df_empregados_1 = df_empregados_1.withColumn(\"Segmento\", lit(\"\"))\n",
				"df_empregados_2 = df_empregados_2.withColumn(\"CNPJ\", lit(\"\"))\n",
				"\n",
				"df_empregados = df_empregados_1.union(df_empregados_2)\n",
				"df_empregados.write.parquet(\"s3://atividade6/data/raw/empregados_parquet\", mode=\"overwrite\")\n"
			]
		},
		{
			"cell_type": "code",
			"execution_count": 35,
			"metadata": {
				"tags": [],
				"trusted": true,
				"vscode": {
					"languageId": "python_glue_session"
				}
			},
			"outputs": [
				{
					"name": "stdout",
					"output_type": "stream",
					"text": [
						"\n"
					]
				}
			],
			"source": [
				"s3_client = boto3.client(\"s3\")\n",
				"fileList = s3_client.list_objects_v2(Bucket=\"atividade6\", Prefix=\"data/raw/Reclamacoes/\")\n",
				"\n",
				"reclamacoes_list = []\n",
				"\n",
				"if 'Contents' in fileList:\n",
				"    for obj in fileList['Contents']:\n",
				"        filename = obj['Key']\n",
				"        try:\n",
				"            s3_path = f's3a://atividade6/{filename}'\n",
				"            df = spark.read.csv(s3_path, sep=';', header=True, encoding='iso-8859-1')\n",
				"\n",
				"            reclamacoes_list.append(df)\n",
				"        except Exception as e:\n",
				"            print(f'Não foi possível abrir o arquivo {filename}: {str(e)}')\n",
				"else:\n",
				"    print(\"Nenhum arquivo encontrado no bucket.\")\n",
				"    \n",
				"if reclamacoes_list:\n",
				"    reclamacoes_df = reclamacoes_list[0]\n",
				"    for df in reclamacoes_list[1:]:\n",
				"        reclamacoes_df = reclamacoes_df.union(df)\n",
				"\n",
				"    reclamacoes_df.write.parquet(\"s3://atividade6/data/raw/reclamacoes_parquet\")\n",
				"else:\n",
				"    print(\"Array vazio\")\n"
			]
		},
		{
			"cell_type": "code",
			"execution_count": 66,
			"metadata": {
				"tags": [],
				"trusted": true,
				"vscode": {
					"languageId": "python_glue_session"
				}
			},
			"outputs": [
				{
					"name": "stdout",
					"output_type": "stream",
					"text": [
						"\n"
					]
				}
			],
			"source": [
				"df_bancos_parquet = spark.read.parquet(\"s3://atividade6/data/raw/bancos_parquet\")\n",
				"df_bancos_parquet = df_bancos_parquet.withColumn(\n",
				"    \"CNPJ\",\n",
				"    col(\"CNPJ\")\n",
				"    .cast(\"string\")\n",
				"    )\n",
				"df_bancos_parquet = df_bancos_parquet.withColumn(\n",
				"    'Nome',\n",
				"    regexp_replace(\n",
				"        col('Nome'),\n",
				"        ' - PRUDENCIAL',\n",
				"        '')\n",
				"    )\n",
				"df_bancos_parquet = df_bancos_parquet.withColumnRenamed(\"CNPJ\", \"cnpj\").withColumnRenamed(\"Nome\", \"nome\").withColumnRenamed(\"Segmento\", \"segmento\")\n",
				"df_bancos_parquet.write.parquet(\"s3://atividade6/data/trusted/bancos_trusted_parquet\", mode=\"overwrite\")"
			]
		},
		{
			"cell_type": "code",
			"execution_count": 30,
			"metadata": {
				"tags": [],
				"trusted": true,
				"vscode": {
					"languageId": "python_glue_session"
				}
			},
			"outputs": [
				{
					"name": "stdout",
					"output_type": "stream",
					"text": [
						"\n"
					]
				}
			],
			"source": [
				"df_empregados_parquet = spark.read.parquet(\"s3://atividade6/data/raw/empregados_parquet\")\n",
				"df_empregados_parquet = df_empregados_parquet.withColumn(\n",
				"    \"CNPJ\",\n",
				"    col(\"CNPJ\")\n",
				"    .cast(\"string\")\n",
				"    )\n",
				"df_empregados_parquet = df_empregados_parquet \\\n",
				"    .withColumnRenamed(\"employer-website\", \"employer_website\") \\\n",
				"    .withColumnRenamed(\"employer-headquarters\", \"employer_headquarters\") \\\n",
				"    .withColumnRenamed(\"employer-founded\", \"employer_founded\") \\\n",
				"    .withColumnRenamed(\"employer-industry\", \"employer_industry\") \\\n",
				"    .withColumnRenamed(\"employer-revenue\", \"employer_revenue\") \\\n",
				"    .withColumnRenamed(\"Geral\", \"geral\") \\\n",
				"    .withColumnRenamed(\"Cultura e valores\", \"cultura_e_valores\") \\\n",
				"    .withColumnRenamed(\"Diversidade e inclusão\", \"diversidade_e_inclusao\") \\\n",
				"    .withColumnRenamed(\"Qualidade de vida\", \"qualidade_de_vida\") \\\n",
				"    .withColumnRenamed(\"Alta liderança\", \"alta_lideranca\") \\\n",
				"    .withColumnRenamed(\"Remuneração e benefícios\", \"remuneracao_e_beneficios\") \\\n",
				"    .withColumnRenamed(\"Oportunidades de carreira\", \"oportunidades_de_carreira\") \\\n",
				"    .withColumnRenamed(\"Recomendam para outras pessoas(%)\", \"recomendam_para_outras_pessoas\") \\\n",
				"    .withColumnRenamed(\"Perspectiva positiva da empresa(%)\", \"perspectiva_positiva_da_empresa\") \\\n",
				"    .withColumnRenamed(\"CNPJ\", \"cnpj\") \\\n",
				"    .withColumnRenamed(\"Nome\", \"nome\") \\\n",
				"    .withColumnRenamed(\"Segmento\", \"segmento\")\n",
				"\n",
				"df_empregados_parquet.write.parquet(\"s3://atividade6/data/trusted/empregados_trusted_parquet\", mode=\"overwrite\")\n"
			]
		},
		{
			"cell_type": "code",
			"execution_count": 38,
			"metadata": {
				"tags": [],
				"trusted": true,
				"vscode": {
					"languageId": "python_glue_session"
				}
			},
			"outputs": [
				{
					"name": "stdout",
					"output_type": "stream",
					"text": [
						"+----+---------+--------------------+----------------+--------+--------------------+------+-----------------------------------------------+------------------------------------------+---------------------------------------+-------------------------------+--------------------------------------+--------------------------+--------------------------+----+\n",
						"| ano|trimestre|           categoria|            tipo|    cnpj|                nome|indice|quantidade_de_reclamacoes_reguladas_procedentes|quantidade_de_reclamacoes_reguladas_outras|quantidade_de_reclamacoes_nao_reguladas|quantidade_total_de_reclamacoes|quantidade_total_de_clientes_ccs_e_scr|quantidade_de_clientes_ccs|quantidade_de_clientes_scr|_c14|\n",
						"+----+---------+--------------------+----------------+--------+--------------------+------+-----------------------------------------------+------------------------------------------+---------------------------------------+-------------------------------+--------------------------------------+--------------------------+--------------------------+----+\n",
						"|2022|       3º|Demais Bancos, Fi...|    Conglomerado|        |ABC-BRASIL (congl...|      |                                              4|                                         7|                                      3|                             14|                                 50720|                     47485|                      6932|null|\n",
						"|2022|       3º|Demais Bancos, Fi...|    Conglomerado|        |ABN AMRO (conglom...|      |                                              0|                                         0|                                      1|                              1|                                     0|                         0|                          |null|\n",
						"|2022|       3º|Demais Bancos, Fi...|Banco/financeira|13140088|ACESSO SOLUÇÕES D...| 14,70|                                             75|                                       128|                                      9|                            212|                               5098671|                   5098661|                     19396|null|\n",
						"|2022|       3º|Demais Bancos, Fi...|    Conglomerado|        |AGIBANK (conglome...| 96,00|                                            182|                                       262|                                     95|                            539|                               1895683|                   1540134|                   1176067|null|\n",
						"|2022|       3º|Demais Bancos, Fi...|Banco/financeira|36321990|AGORACRED S/A SOC...|      |                                              4|                                         4|                                      2|                             10|                                534795|                       133|                    534662|null|\n",
						"|2022|       3º|Demais Bancos, Fi...|Banco/financeira|27214112|AL5 S.A. CRÉDITO,...|      |                                             10|                                         3|                                      2|                             15|                                 30959|                     19706|                     16841|null|\n",
						"|2022|       3º|Demais Bancos, Fi...|    Conglomerado|        | ALFA (conglomerado)|      |                                             23|                                        48|                                      9|                             80|                                436746|                    267423|                    170417|null|\n",
						"|2022|       3º|Demais Bancos, Fi...|Banco/financeira|32778350|AME DIGITAL BRASI...|      |                                              6|                                        31|                                     90|                            127|                                     0|                         0|                         0|null|\n",
						"|2022|       3º|Demais Bancos, Fi...|    Conglomerado|        |ANDBANK (conglome...|      |                                              0|                                         2|                                      2|                              4|                                  4302|                      4302|                        29|null|\n",
						"|2022|       3º|Demais Bancos, Fi...|Banco/financeira|19540550|ASAAS GESTÃO FINA...|      |                                              8|                                        42|                                      5|                             55|                                404447|                    404447|                          |null|\n",
						"|2022|       3º|Demais Bancos, Fi...|Banco/financeira|54403563|     BANCO ARBI S.A.|      |                                             14|                                         8|                                      0|                             22|                                 84526|                     75882|                     10846|null|\n",
						"|2022|       3º|Demais Bancos, Fi...|Banco/financeira|00997185|       BANCO B3 S.A.|      |                                              0|                                         1|                                      1|                              2|                                   896|                       896|                          |null|\n",
						"|2022|       3º|Demais Bancos, Fi...|Banco/financeira|02658435|BANCO CATERPILLAR...|      |                                              1|                                         0|                                      0|                              1|                                  3325|                          |                      3325|null|\n",
						"|2022|       3º|Demais Bancos, Fi...|Banco/financeira|33132044|   BANCO CEDULA S.A.|      |                                              0|                                         1|                                      1|                              2|                                 18010|                      2805|                     15425|null|\n",
						"|2022|       3º|Demais Bancos, Fi...|Banco/financeira|02992446|BANCO CNH INDUSTR...|      |                                              0|                                         2|                                      2|                              4|                                 28887|                      1290|                     27778|null|\n",
						"|2022|       3º|Demais Bancos, Fi...|Banco/financeira|08357240|      BANCO CSF S.A.|  9,98|                                             77|                                        72|                                     43|                            192|                               7707988|                          |                   7707988|null|\n",
						"|2022|       3º|Demais Bancos, Fi...|Banco/financeira|04902979|BANCO DA AMAZONIA...|      |                                              6|                                         7|                                     10|                             23|                                507169|                    507169|                          |null|\n",
						"|2022|       3º|Demais Bancos, Fi...|Banco/financeira|33042151|BANCO DE LA NACIO...|      |                                              0|                                         2|                                      0|                              2|                                   267|                       255|                        22|null|\n",
						"|2022|       3º|Demais Bancos, Fi...|Banco/financeira|05040481|BANCO DE LAGE LAN...|      |                                              0|                                         0|                                      1|                              1|                                 35292|                         4|                     35289|null|\n",
						"|2022|       3º|Demais Bancos, Fi...|Banco/financeira|92874270| BANCO DIGIMAIS S.A.|424,80|                                            132|                                        31|                                     33|                            196|                                310734|                    142304|                    203761|null|\n",
						"+----+---------+--------------------+----------------+--------+--------------------+------+-----------------------------------------------+------------------------------------------+---------------------------------------+-------------------------------+--------------------------------------+--------------------------+--------------------------+----+\n",
						"only showing top 20 rows\n"
					]
				}
			],
			"source": [
				"df_reclamacoes_parquet = spark.read.parquet(\"s3://atividade6/data/raw/reclamacoes_parquet\")\n",
				"df_reclamacoes_parquet = df_reclamacoes_parquet \\\n",
				"    .withColumnRenamed(\"Ano\", \"ano\") \\\n",
				"    .withColumnRenamed(\"Trimestre\", \"trimestre\") \\\n",
				"    .withColumnRenamed(\"Categoria\", \"categoria\") \\\n",
				"    .withColumnRenamed(\"Tipo\", \"tipo\") \\\n",
				"    .withColumnRenamed(\"CNPJ IF\", \"cnpj\") \\\n",
				"    .withColumnRenamed(\"Instituição financeira\", \"nome\") \\\n",
				"    .withColumnRenamed(\"Índice\", \"indice\") \\\n",
				"    .withColumnRenamed(\"Quantidade de reclamações reguladas procedentes\", \"quantidade_de_reclamacoes_reguladas_procedentes\") \\\n",
				"    .withColumnRenamed(\"Quantidade de reclamações reguladas - outras\", \"quantidade_de_reclamacoes_reguladas_outras\") \\\n",
				"    .withColumnRenamed(\"Quantidade de reclamações não reguladas\", \"quantidade_de_reclamacoes_nao_reguladas\") \\\n",
				"    .withColumnRenamed(\"Quantidade total de reclamações\", \"quantidade_total_de_reclamacoes\") \\\n",
				"    .withColumnRenamed(\"Quantidade total de clientes \\x96 CCS e SCR\", \"quantidade_total_de_clientes_ccs_e_scr\") \\\n",
				"    .withColumnRenamed(\"Quantidade de clientes \\x96 CCS\", \"quantidade_de_clientes_ccs\") \\\n",
				"    .withColumnRenamed(\"Quantidade de clientes \\x96 SCR\", \"quantidade_de_clientes_scr\")\n",
				"df_reclamacoes_parquet = df_reclamacoes_parquet.withColumn(\n",
				"    'nome',\n",
				"    regexp_replace(\n",
				"        col('nome'),\n",
				"        ' (conglomerado)',\n",
				"        '')\n",
				"    )\n",
				"df_reclamacoes_parquet.write.parquet(\"s3://atividade6/data/trusted/reclamacoes_trusted_parquet\", mode=\"overwrite\")\n"
			]
		},
		{
			"cell_type": "code",
			"execution_count": 40,
			"metadata": {
				"tags": [],
				"trusted": true,
				"vscode": {
					"languageId": "python_glue_session"
				}
			},
			"outputs": [
				{
					"name": "stdout",
					"output_type": "stream",
					"text": [
						"\n"
					]
				}
			],
			"source": [
				"df_bancos_trusted = spark.read.parquet(\"s3://atividade6/data/trusted/bancos_trusted_parquet\")\n",
				"df_empregados_trusted = spark.read.parquet(\"s3://atividade6/data/trusted/empregados_trusted_parquet\")\n",
				"df_reclamacoes_trusted = spark.read.parquet(\"s3://atividade6/data/trusted/reclamacoes_trusted_parquet\")\n",
				"\n",
				"df_bancos_empregados = df_bancos_trusted.join(\n",
				"    df_empregados_trusted, \n",
				"    on=['cnpj', 'nome', 'segmento'], \n",
				"    how='left'\n",
				").dropDuplicates(['cnpj'])\n",
				"                                            \n",
				"df_reclamacoes_trusted.write.csv(\"s3://atividade6/data/delivery/reclamacoes_delivery_csv\", mode=\"overwrite\")                                         \n",
				"                                            \n",
				"\n",
				"df_final = df_reclamacoes_trusted.join(\n",
				"    df_bancos_empregados, \n",
				"    on=['cnpj', 'nome'], \n",
				"    how='inner'\n",
				")\n",
				"\n",
				"df_final.write.parquet(\"s3://atividade6/data/delivery/final_delivery_parquet\", mode=\"overwrite\")\n"
			]
		},
		{
			"cell_type": "code",
			"execution_count": 41,
			"metadata": {
				"tags": [],
				"trusted": true,
				"vscode": {
					"languageId": "python_glue_session"
				}
			},
			"outputs": [
				{
					"name": "stdout",
					"output_type": "stream",
					"text": [
						"\n"
					]
				}
			],
			"source": [
				"df_final = spark.read.parquet(\"s3://atividade6/data/delivery/final_delivery_parquet\")\n",
				"df_final.write.format(\"jdbc\").options(\n",
				"    url=\"jdbc:mysql://arn:3306/atividade6\",\n",
				"    driver=\"com.mysql.cj.jdbc.Driver\",\n",
				"    user=\"atividade6\",\n",
				"    password=\"atividade6\",\n",
				"    dbtable=\"final_delivery\").mode(\"overwrite\").save()"
			]
		}
	],
	"metadata": {
		"kernelspec": {
			"display_name": "Glue PySpark",
			"language": "python",
			"name": "glue_pyspark"
		},
		"language_info": {
			"codemirror_mode": {
				"name": "python",
				"version": 3
			},
			"file_extension": ".py",
			"mimetype": "text/x-python",
			"name": "Python_Glue_Session",
			"pygments_lexer": "python3"
		}
	},
	"nbformat": 4,
	"nbformat_minor": 4
}
